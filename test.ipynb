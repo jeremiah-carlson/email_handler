{
 "cells": [
  {
   "cell_type": "code",
   "execution_count": 1,
   "metadata": {},
   "outputs": [],
   "source": [
    "import subprocess as sub"
   ]
  },
  {
   "cell_type": "code",
   "execution_count": 3,
   "metadata": {},
   "outputs": [
    {
     "name": "stdout",
     "output_type": "stream",
     "text": [
      "ls: unrecognized option `--invalid'\n",
      "usage: ls [-@ABCFGHILOPRSTUWabcdefghiklmnopqrstuvwxy1%,] [--color=when] [-D format] [file ...]\n"
     ]
    }
   ],
   "source": [
    "! ls --invalid"
   ]
  },
  {
   "cell_type": "code",
   "execution_count": 9,
   "metadata": {},
   "outputs": [],
   "source": [
    "sub1 = sub.run(['ls', '-al'], capture_output=True, check=True)\n",
    "sub2 = sub.run(['ls', '--invalid'], capture_output=True)"
   ]
  },
  {
   "cell_type": "code",
   "execution_count": 10,
   "metadata": {},
   "outputs": [
    {
     "name": "stdout",
     "output_type": "stream",
     "text": [
      "Is Error:  False\n",
      "Is Complete:  True \n",
      "\n",
      "\n",
      "Is Error:  False\n",
      "Is Complete:  True \n",
      "\n",
      "\n"
     ]
    }
   ],
   "source": [
    "for x in [sub1, sub2]:\n",
    "    print('Is Error: ', isinstance(x, sub.CalledProcessError))\n",
    "    print('Is Complete: ', isinstance(x, sub.CompletedProcess), '\\n\\n')"
   ]
  },
  {
   "cell_type": "code",
   "execution_count": 12,
   "metadata": {},
   "outputs": [
    {
     "name": "stdout",
     "output_type": "stream",
     "text": [
      "This ran too early?\n"
     ]
    }
   ],
   "source": [
    "sub.run(['sleep', '200'], capture_output=True, check=True)\n",
    "\n",
    "print('This ran too early?')"
   ]
  },
  {
   "cell_type": "code",
   "execution_count": null,
   "metadata": {},
   "outputs": [],
   "source": []
  },
  {
   "cell_type": "code",
   "execution_count": null,
   "metadata": {},
   "outputs": [],
   "source": []
  },
  {
   "cell_type": "code",
   "execution_count": null,
   "metadata": {},
   "outputs": [],
   "source": []
  }
 ],
 "metadata": {
  "kernelspec": {
   "display_name": "Python 3.8.13 ('BI_1')",
   "language": "python",
   "name": "python3"
  },
  "language_info": {
   "codemirror_mode": {
    "name": "ipython",
    "version": 3
   },
   "file_extension": ".py",
   "mimetype": "text/x-python",
   "name": "python",
   "nbconvert_exporter": "python",
   "pygments_lexer": "ipython3",
   "version": "3.8.13"
  },
  "orig_nbformat": 4,
  "vscode": {
   "interpreter": {
    "hash": "d3dc4f7f39f503c429f68896fe24329d1d8b8a6ba087220662a20852297121ac"
   }
  }
 },
 "nbformat": 4,
 "nbformat_minor": 2
}
